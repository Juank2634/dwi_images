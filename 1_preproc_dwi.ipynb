{
 "cells": [
  {
   "cell_type": "code",
   "execution_count": 41,
   "id": "9cc55f58",
   "metadata": {},
   "outputs": [],
   "source": [
    "import numpy as np\n",
    "import os\n",
    "import glob\n",
    "import nibabel as nib\n",
    "import bids\n",
    "import matplotlib.pyplot as plt\n",
    "\n",
    "# Denoise correction\n",
    "from dipy.denoise.patch2self import patch2self\n",
    "\n",
    "# motion correction\n",
    "from dipy.align import motion_correction \n",
    "from dipy.core.gradients import gradient_table\n",
    "from dipy.io.gradients import read_bvals_bvecs\n",
    "from dipy.io.image import load_nifti, save_nifti\n"
   ]
  },
  {
   "cell_type": "code",
   "execution_count": 20,
   "id": "5d45eb2a",
   "metadata": {},
   "outputs": [],
   "source": [
    "path_dwi_raw = '/opt/dora/Dora/BIDS_ELA/BIDS_ELA/'\n",
    "path_dwi_preproc = '/opt/dora/Dora/dwi_scripts/1_preproc'"
   ]
  },
  {
   "cell_type": "code",
   "execution_count": 21,
   "id": "d33553af",
   "metadata": {},
   "outputs": [],
   "source": [
    "dwi_raw_bids = bids.BIDSLayout(path_dwi_raw)\n",
    "\n",
    "# Get all DWI images from the BIDS dataset\n",
    "dwi_images = dwi_raw_bids.get(suffix='dwi', extension='.nii.gz')\n",
    "dwi_bvals = dwi_raw_bids.get(suffix='dwi', extension='.bval')\n",
    "dwi_bvecs = dwi_raw_bids.get(suffix='dwi', extension='.bvec')"
   ]
  },
  {
   "cell_type": "code",
   "execution_count": 22,
   "id": "b54354d8",
   "metadata": {},
   "outputs": [
    {
     "name": "stdout",
     "output_type": "stream",
     "text": [
      "Found 95 DWI images\n",
      "Found 95 DWI b-values\n",
      "Found 95 DWI b-vectors\n"
     ]
    }
   ],
   "source": [
    "# Print the number of DWI images found\n",
    "print(f\"Found {len(dwi_images)} DWI images\")\n",
    "print(f\"Found {len(dwi_bvals)} DWI b-values\")\n",
    "print(f\"Found {len(dwi_bvecs)} DWI b-vectors\")"
   ]
  },
  {
   "cell_type": "code",
   "execution_count": 42,
   "id": "0dedd1d5",
   "metadata": {},
   "outputs": [],
   "source": [
    "# preprocessing of image\n",
    "for dwi_img, bval, bvec in list(zip(dwi_images, dwi_bvals, dwi_bvecs))[:1]:\n",
    "    # Load the DWI image\n",
    "    data, affine = load_nifti(dwi_img.path)\n",
    "    bvals, bvecs = read_bvals_bvecs(bval.path, bvec.path)\n",
    "    gtab = gradient_table(bvals, bvecs)\n",
    "    # denoise correction \n",
    "    denoise_data = patch2self(data, bvals=bvals, model='ols', shift_intensity=True, clip_negative_vals=False, b0_threshold=50)\n"
   ]
  },
  {
   "cell_type": "code",
   "execution_count": null,
   "id": "b47d90c5",
   "metadata": {},
   "outputs": [],
   "source": []
  }
 ],
 "metadata": {
  "kernelspec": {
   "display_name": "dipy_ELP",
   "language": "python",
   "name": "python3"
  },
  "language_info": {
   "codemirror_mode": {
    "name": "ipython",
    "version": 3
   },
   "file_extension": ".py",
   "mimetype": "text/x-python",
   "name": "python",
   "nbconvert_exporter": "python",
   "pygments_lexer": "ipython3",
   "version": "3.12.2"
  }
 },
 "nbformat": 4,
 "nbformat_minor": 5
}
